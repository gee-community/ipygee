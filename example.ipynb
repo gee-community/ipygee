{
 "cells": [
  {
   "cell_type": "code",
   "execution_count": null,
   "metadata": {},
   "outputs": [],
   "source": [
    "import ee \n",
    "\n",
    "ee.Authenticate()"
   ]
  },
  {
   "cell_type": "code",
   "execution_count": null,
   "metadata": {},
   "outputs": [],
   "source": [
    "ee.Initialize(project=\"ee-borntobealive\")"
   ]
  },
  {
   "cell_type": "code",
   "execution_count": null,
   "metadata": {},
   "outputs": [],
   "source": [
    "from ipygee.asset import AssetManager\n",
    "from ipygee.task import TaskManager\n",
    "from ipygee.map import Map"
   ]
  },
  {
   "cell_type": "code",
   "execution_count": null,
   "metadata": {},
   "outputs": [],
   "source": [
    "am = AssetManager()\n",
    "am.to_sidecar()"
   ]
  },
  {
   "cell_type": "code",
   "execution_count": null,
   "metadata": {},
   "outputs": [],
   "source": [
    "#tm = TaskManager()\n",
    "#tm.to_sidecar()"
   ]
  },
  {
   "cell_type": "code",
   "execution_count": null,
   "metadata": {},
   "outputs": [],
   "source": [
    "m = Map()\n",
    "m.to_sidecar()"
   ]
  },
  {
   "cell_type": "code",
   "execution_count": null,
   "metadata": {},
   "outputs": [],
   "source": [
    "dataset = (\n",
    "    ee.ImageCollection('ECMWF/ERA5_LAND/HOURLY')\n",
    "    .filter(ee.Filter.date('2020-07-01', '2020-07-02'))\n",
    ")\n",
    "\n",
    "visualization = {\n",
    "  \"bands\": ['temperature_2m'],\n",
    "  \"min\": 250.0,\n",
    "  \"max\": 320.0,\n",
    "  \"palette\": [\n",
    "    '000080', '0000d9', '4000ff', '8000ff', '0080ff', '00ffff',\n",
    "    '00ff80', '80ff00', 'daff00', 'ffff00', 'fff500', 'ffda00',\n",
    "    'ffb000', 'ffa400', 'ff4f00', 'ff2500', 'ff0a00', 'ff00ff',\n",
    "  ]\n",
    "}\n",
    "\n",
    "m.addLayer(dataset, visualization, 'Air temperature [K] at 2m height')"
   ]
  },
  {
   "cell_type": "code",
   "execution_count": null,
   "metadata": {},
   "outputs": [],
   "source": []
  },
  {
   "cell_type": "code",
   "execution_count": null,
   "metadata": {},
   "outputs": [],
   "source": []
  }
 ],
 "metadata": {
  "kernelspec": {
   "display_name": "Python 3 (ipykernel)",
   "language": "python",
   "name": "python3"
  },
  "language_info": {
   "codemirror_mode": {
    "name": "ipython",
    "version": 3
   },
   "file_extension": ".py",
   "mimetype": "text/x-python",
   "name": "python",
   "nbconvert_exporter": "python",
   "pygments_lexer": "ipython3",
   "version": "3.12.6"
  }
 },
 "nbformat": 4,
 "nbformat_minor": 4
}
