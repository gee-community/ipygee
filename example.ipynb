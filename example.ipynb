{
 "cells": [
  {
   "cell_type": "code",
   "execution_count": null,
   "metadata": {},
   "outputs": [],
   "source": [
    "import ee\n",
    "\n",
    "ee.Authenticate()"
   ]
  },
  {
   "cell_type": "code",
   "execution_count": null,
   "metadata": {},
   "outputs": [],
   "source": [
    "ee.Initialize(project=\"ee-borntobealive\")"
   ]
  },
  {
   "cell_type": "code",
   "execution_count": null,
   "metadata": {},
   "outputs": [],
   "source": [
    "from ipygee.asset import AssetManager\n",
    "from ipygee.map import Map"
   ]
  },
  {
   "cell_type": "code",
   "execution_count": null,
   "metadata": {},
   "outputs": [],
   "source": [
    "am = AssetManager()\n",
    "am.to_sidecar()"
   ]
  },
  {
   "cell_type": "code",
   "execution_count": null,
   "metadata": {},
   "outputs": [],
   "source": [
    "# tm = TaskManager()\n",
    "# tm.to_sidecar()"
   ]
  },
  {
   "cell_type": "code",
   "execution_count": null,
   "metadata": {},
   "outputs": [],
   "source": [
    "m = Map()\n",
    "m.to_sidecar()"
   ]
  },
  {
   "cell_type": "code",
   "execution_count": null,
   "metadata": {},
   "outputs": [],
   "source": [
    "dataset = ee.ImageCollection(\"ECMWF/ERA5_LAND/HOURLY\").filter(ee.Filter.date(\"2020-07-01\", \"2020-07-02\"))\n",
    "\n",
    "visualization = {\n",
    "    \"bands\": [\"temperature_2m\"],\n",
    "    \"min\": 250.0,\n",
    "    \"max\": 320.0,\n",
    "    \"palette\": [\n",
    "        \"000080\",\n",
    "        \"0000d9\",\n",
    "        \"4000ff\",\n",
    "        \"8000ff\",\n",
    "        \"0080ff\",\n",
    "        \"00ffff\",\n",
    "        \"00ff80\",\n",
    "        \"80ff00\",\n",
    "        \"daff00\",\n",
    "        \"ffff00\",\n",
    "        \"fff500\",\n",
    "        \"ffda00\",\n",
    "        \"ffb000\",\n",
    "        \"ffa400\",\n",
    "        \"ff4f00\",\n",
    "        \"ff2500\",\n",
    "        \"ff0a00\",\n",
    "        \"ff00ff\",\n",
    "    ],\n",
    "}\n",
    "\n",
    "m.addLayer(dataset, visualization, \"Air temperature [K] at 2m height\")"
   ]
  },
  {
   "cell_type": "code",
   "execution_count": null,
   "metadata": {},
   "outputs": [],
   "source": []
  },
  {
   "cell_type": "code",
   "execution_count": null,
   "metadata": {},
   "outputs": [],
   "source": []
  }
 ],
 "metadata": {
  "kernelspec": {
   "display_name": "Python 3 (ipykernel)",
   "language": "python",
   "name": "python3"
  },
  "language_info": {
   "codemirror_mode": {
    "name": "ipython",
    "version": 3
   },
   "file_extension": ".py",
   "mimetype": "text/x-python",
   "name": "python",
   "nbconvert_exporter": "python",
   "pygments_lexer": "ipython3",
   "version": "3.12.6"
  }
 },
 "nbformat": 4,
 "nbformat_minor": 4
}
