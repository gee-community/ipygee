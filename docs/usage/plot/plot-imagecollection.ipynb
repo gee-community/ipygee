{
 "cells": [
  {
   "cell_type": "markdown",
   "metadata": {},
   "source": [
    "# Plot ImageCollection\n",
    "\n",
    "The `geetools` extention contains a set of functions for rendering charts from the results of spatiotemporal reduction of images within an `ee.ImageCollection`. The choice of function dictates the arrangement of data in the chart, i.e., what defines x- and y-axis values and what defines the series. Use the following function descriptions and examples to determine the best function for your purpose."
   ]
  },
  {
   "cell_type": "code",
   "execution_count": null,
   "metadata": {
    "tags": [
     "remove-cell"
    ]
   },
   "outputs": [],
   "source": [
    "import ee, geetools\n",
    "from geetools.utils import initialize_documentation\n",
    "\n",
    "initialize_documentation()"
   ]
  },
  {
   "cell_type": "markdown",
   "metadata": {},
   "source": [
    "[![github](https://img.shields.io/badge/-see%20sources-white?logo=github&labelColor=555)](https://github.com/gee-community/ipygee/blob/main/docs/usage/plot/plot-imagecollection.ipynb)\n",
    "[![colab](https://img.shields.io/badge/-open%20in%20colab-blue?logo=googlecolab&labelColor=555)](https://colab.research.google.com/github/gee-community/ipygee/blob/main/docs/usage/plot/plot-imagecollection.ipynb)"
   ]
  },
  {
   "cell_type": "markdown",
   "metadata": {},
   "source": [
    "## Set up environment\n",
    "\n",
    "Install all the required libs if necessary and perform the import satements upstream."
   ]
  },
  {
   "cell_type": "code",
   "execution_count": null,
   "metadata": {},
   "outputs": [],
   "source": [
    "# uncomment if installation of libs is necessary\n",
    "# !pip install earthengine-api geetools"
   ]
  },
  {
   "cell_type": "code",
   "execution_count": null,
   "metadata": {},
   "outputs": [],
   "source": [
    "from matplotlib import pyplot as plt\n",
    "from datetime import datetime as dt\n",
    "\n",
    "import ee\n",
    "import ipygee #noqa: F401\n",
    "from bokeh.io import output_notebook\n",
    "\n",
    "output_notebook()"
   ]
  },
  {
   "cell_type": "code",
   "execution_count": null,
   "metadata": {},
   "outputs": [],
   "source": [
    "# uncomment if authetication to GEE is needed\n",
    "# ee.Authenticate()\n",
    "# ee.Initialize(project=\"<your_project>\")"
   ]
  },
  {
   "cell_type": "markdown",
   "metadata": {},
   "source": [
    "## Example data \n",
    "\n",
    "The following examples rely on a `ee.FeatureCollection` composed of three ecoregion features that define regions by which to reduce image data. The ImageCollection data loads the modis vegetation indicies and subset the 2010 2020 decade of images."
   ]
  },
  {
   "cell_type": "code",
   "execution_count": null,
   "metadata": {},
   "outputs": [],
   "source": [
    "## Import the example feature collection and drop the data property.\n",
    "ecoregions = (\n",
    "    ee.FeatureCollection(\"projects/google/charts_feature_example\")\n",
    "    .select([\"label\", \"value\", \"warm\"])\n",
    ")\n",
    "\n",
    "\n",
    "## Load MODIS vegetation indices data and subset a decade of images.\n",
    "vegIndices = (\n",
    "    ee.ImageCollection(\"MODIS/061/MOD13A1\")\n",
    "    .filter(ee.Filter.date(\"2010-01-01\", \"2020-01-01\"))\n",
    "    .select([\"NDVI\", \"EVI\"])\n",
    ")"
   ]
  },
  {
   "cell_type": "markdown",
   "metadata": {},
   "source": [
    "## Plot dates\n",
    "\n",
    "The `plot_dates*` methods will plot the values of the image collection using their dates as x-axis values."
   ]
  },
  {
   "cell_type": "markdown",
   "metadata": {},
   "source": [
    "### series by bands \n",
    "\n",
    "Image date is plotted along the x-axis according to the `dateProperty` property. Series are defined by image bands. Y-axis values are the reduction of images, by date, for a single region."
   ]
  },
  {
   "cell_type": "code",
   "execution_count": null,
   "metadata": {
    "tags": [
     "remove-input"
    ]
   },
   "outputs": [],
   "source": [
    "from bokeh.plotting import figure, show\n",
    "\n",
    "fig = figure(width=800, height=400)\n",
    "\n",
    "# Sample data (replace these with your actual data)\n",
    "dates = [\"date1\", \"date2\", \"date3\"]\n",
    "ticker_values = list(range(len(dates)))\n",
    "b1 = [1, 2, 1]\n",
    "b2 = [2, 3, 2]\n",
    "b3 = [3, 4, 3]\n",
    "\n",
    "# Create the plot\n",
    "fig.line(x=ticker_values, y=b1, legend_label=\"b1\", color=\"#1d6b99\")\n",
    "fig.line(x=ticker_values, y=b2, legend_label=\"b2\", color=\"#cf513e\")\n",
    "fig.line(x=ticker_values, y=b3, legend_label=\"b3\", color=\"#f0af07\")\n",
    "\n",
    "# Add titles and labels\n",
    "fig.title.text = \"Single-region spatial reduction\"\n",
    "fig.xaxis.axis_label = \"Image date\"\n",
    "fig.yaxis.axis_label = \"Spatial reduction\"\n",
    "fig.y_range.start = 0\n",
    "fig.y_range.end = 5\n",
    "fig.legend.title = \"Band names\"\n",
    "fig.legend.location = \"top_right\"\n",
    "fig.xaxis.ticker = ticker_values\n",
    "fig.xaxis.major_label_overrides = {i: date for i, date in enumerate(dates)}\n",
    "fig.xgrid.grid_line_color = None\n",
    "fig.legend.orientation = \"horizontal\"\n",
    "fig.outline_line_color = None\n",
    "\n",
    "show(fig)"
   ]
  },
  {
   "cell_type": "markdown",
   "metadata": {},
   "source": [
    "Use `plot_series_by_bands` to display an image time series for a given region; each image band is presented as a unique series. It is useful for comparing the time series of individual image bands. Here, a MODIS image collection with bands representing NDVI and EVI vegetation indices are plotted. The date of every image observation is included along the x-axis, while the mean reduction of pixels intersecting a forest ecoregion defines the y-axis."
   ]
  },
  {
   "cell_type": "code",
   "execution_count": null,
   "metadata": {},
   "outputs": [],
   "source": [
    "fig = figure(width=800, height=400)\n",
    "\n",
    "region = ecoregions.filter(ee.Filter.eq(\"label\", \"Forest\"))\n",
    "col = vegIndices.bokeh.plot_dates_by_bands(\n",
    "    region = region.geometry(),\n",
    "    reducer = \"mean\",\n",
    "    scale = 500,\n",
    "    bands = [\"NDVI\", \"EVI\"],\n",
    "    figure = fig,\n",
    "    dateProperty = \"system:time_start\",\n",
    ")\n",
    "\n",
    "# once created the figure can be modified as needed using pure bokeh members\n",
    "col.children[0].yaxis.axis_label = \"Vegetation indices (x1e4)\"\n",
    "col.children[0].title.text = \"Average Vegetation index Values by date in the Forest ecoregion\"\n",
    "\n",
    "show(col)"
   ]
  },
  {
   "cell_type": "markdown",
   "metadata": {},
   "source": [
    "### Plot series by region\n",
    "\n",
    "Image date is plotted along the x-axis according to the `dateProperty` property. Series are defined by regions. Y-axis values are the reduction of images, by date, for a single image band."
   ]
  },
  {
   "cell_type": "code",
   "execution_count": null,
   "metadata": {
    "tags": [
     "remove-input"
    ]
   },
   "outputs": [],
   "source": [
    "from bokeh.plotting import figure, show\n",
    "\n",
    "fig = figure(width=800, height=400)\n",
    "\n",
    "# Sample data (replace these with your actual data)\n",
    "dates = [\"date1\", \"date2\", \"date3\"]\n",
    "ticker_values = list(range(len(dates)))\n",
    "r1 = [1, 2, 1]\n",
    "r2 = [2, 3, 2]\n",
    "r3 = [3, 4, 3]\n",
    "\n",
    "# Create the plot\n",
    "fig.line(x=ticker_values, y=r1, legend_label=\"r1\", color=\"#1d6b99\")\n",
    "fig.line(x=ticker_values, y=r2, legend_label=\"r2\", color=\"#cf513e\")\n",
    "fig.line(x=ticker_values, y=r3, legend_label=\"r3\", color=\"#f0af07\")\n",
    "\n",
    "# Add titles and labels\n",
    "fig.title.text = \"Single-band spatial reduction\"\n",
    "fig.xaxis.axis_label = \"Image date\"\n",
    "fig.yaxis.axis_label = \"Spatial reduction\"\n",
    "fig.y_range.start = 0\n",
    "fig.y_range.end = 5\n",
    "fig.legend.title = \"Regions\"\n",
    "fig.legend.location = \"top_right\"\n",
    "fig.xaxis.ticker = ticker_values\n",
    "fig.xaxis.major_label_overrides = {i: date for i, date in enumerate(dates)}\n",
    "fig.xgrid.grid_line_color = None\n",
    "fig.legend.orientation = \"horizontal\"\n",
    "fig.outline_line_color = None\n",
    "\n",
    "show(fig)"
   ]
  },
  {
   "cell_type": "markdown",
   "metadata": {},
   "source": [
    "Use `plot_dates_by_regions` to display a single image band time series for multiple regions; each region is presented as a unique series. It is useful for comparing the time series of a single band among several regions. Here, a MODIS image collection representing an NDVI time series is plotted for three ecoregions. The date of every image observation is included along the x-axis, while mean reduction of pixels intersecting forest, desert, and grasslands ecoregions define y-axis series."
   ]
  },
  {
   "cell_type": "code",
   "execution_count": null,
   "metadata": {},
   "outputs": [],
   "source": [
    "fig = figure(width=800, height=400)\n",
    "\n",
    "region = ecoregions.filter(ee.Filter.eq(\"label\", \"Forest\"))\n",
    "col = vegIndices.bokeh.plot_dates_by_regions(\n",
    "    band = \"NDVI\",\n",
    "    regions = ecoregions,\n",
    "    label = \"label\",\n",
    "    reducer = \"mean\",\n",
    "    scale = 500,\n",
    "    figure = fig,\n",
    "    dateProperty = \"system:time_start\",\n",
    "    colors = ['#f0af07', '#0f8755', '#76b349']\n",
    ")\n",
    "\n",
    "# once created the axes can be modified as needed using pure matplotlib functions\n",
    "col.children[0].yaxis.axis_label = \"Vegetation indices (x1e4)\"\n",
    "col.children[0].title.text = \"Average Vegetation index Values by date in the Forest ecoregion\"\n",
    "\n",
    "show(col)"
   ]
  },
  {
   "cell_type": "markdown",
   "metadata": {},
   "source": [
    "## PLot DOY\n",
    "\n",
    "DOY stands for day of year. The `plot_doyseries*` methods will plot the values of the image collection using the day of year as x-axis values.\n",
    "\n",
    "Note that `.plot_doyseries*` functions take two reducers: one for region reduction (`regionReducer`) and another for intra-annual coincident day-of-year reduction (`yearReducer`). Examples in the following sections use `ee.Reducer.mean()` as the argument for both of these parameters."
   ]
  },
  {
   "cell_type": "markdown",
   "metadata": {},
   "source": [
    "### Plot DOY by bands \n",
    "\n",
    "Image day-of-year is plotted along the x-axis according to the `dateProperty` property. Series are defined by image bands. Y-axis values are the reduction of image pixels in a given region, grouped by day-of-year."
   ]
  },
  {
   "cell_type": "code",
   "execution_count": null,
   "metadata": {
    "tags": [
     "remove-input"
    ]
   },
   "outputs": [],
   "source": [
    "from bokeh.plotting import figure, show\n",
    "\n",
    "fig = figure(width=800, height=400)\n",
    "\n",
    "# Sample data (replace these with your actual data)\n",
    "dates = [\"doy1\", \"doy2\", \"doy3\"]\n",
    "ticker_values = list(range(len(dates)))\n",
    "b1 = [1, 2, 1]\n",
    "b2 = [2, 3, 2]\n",
    "b3 = [3, 4, 3]\n",
    "\n",
    "# Create the plot\n",
    "fig.line(x=ticker_values, y=b1, legend_label=\"b1\", color=\"#1d6b99\")\n",
    "fig.line(x=ticker_values, y=b2, legend_label=\"b2\", color=\"#cf513e\")\n",
    "fig.line(x=ticker_values, y=b3, legend_label=\"b3\", color=\"#f0af07\")\n",
    "\n",
    "# Add titles and labels\n",
    "fig.title.text = \"Single-band spatiotemporal reduction\"\n",
    "fig.xaxis.axis_label = \"Image date\"\n",
    "fig.yaxis.axis_label = \"Reduced values\"\n",
    "fig.y_range.start = 0\n",
    "fig.y_range.end = 5\n",
    "fig.legend.title = \"Band names\"\n",
    "fig.legend.location = \"top_right\"\n",
    "fig.xaxis.ticker = ticker_values\n",
    "fig.xaxis.major_label_overrides = {i: date for i, date in enumerate(dates)}\n",
    "fig.xgrid.grid_line_color = None\n",
    "fig.legend.orientation = \"horizontal\"\n",
    "fig.outline_line_color = None\n",
    "\n",
    "show(fig)"
   ]
  },
  {
   "cell_type": "markdown",
   "metadata": {},
   "source": [
    "Use `plot_doy_by_bands` to display a day-of-year time series for a given region; each image band is presented as a unique series. It is useful for reducing observations occurring on the same day-of-year, across multiple years, to compare e.g. average annual NDVI and EVI profiles from MODIS, as in this example."
   ]
  },
  {
   "cell_type": "code",
   "execution_count": null,
   "metadata": {},
   "outputs": [],
   "source": [
    "fig = figure(width=800, height=400)\n",
    "\n",
    "vegIndices.bokeh.plot_doy_by_bands(\n",
    "    region = ecoregions.filter(ee.Filter.eq(\"label\", \"Grassland\")).geometry(),\n",
    "    spatialReducer = \"mean\",\n",
    "    timeReducer = \"mean\",\n",
    "    scale = 500,\n",
    "    bands = [\"NDVI\", \"EVI\"],\n",
    "    figure = fig,\n",
    "    dateProperty = \"system:time_start\",\n",
    "    colors = ['#e37d05', '#1d6b99']\n",
    ")\n",
    "\n",
    "# once created the axes can be modified as needed using pure matplotlib functions\n",
    "fig.yaxis.axis_label = \"Vegetation indices (x1e4)\"\n",
    "fig.title.text = \"Average Vegetation index Values by doy in the Grassland ecoregion\"\n",
    "\n",
    "show(fig)"
   ]
  },
  {
   "cell_type": "markdown",
   "metadata": {},
   "source": [
    "### Plot doy by regions \n",
    "\n",
    "Image day-of-year is plotted along the x-axis according to the `dateProperty` property. Series are defined by regions. Y-axis values are the reduction of image pixels in a given region, grouped by day-of-year, for a selected image band.\n"
   ]
  },
  {
   "cell_type": "code",
   "execution_count": null,
   "metadata": {
    "tags": [
     "remove-input"
    ]
   },
   "outputs": [],
   "source": [
    "from bokeh.plotting import figure, show\n",
    "\n",
    "fig = figure(width=800, height=400)\n",
    "\n",
    "# Sample data (replace these with your actual data)\n",
    "dates = [\"doy1\", \"doy2\", \"doy3\"]\n",
    "ticker_values = list(range(len(dates)))\n",
    "r1 = [1, 2, 1]\n",
    "r2 = [2, 3, 2]\n",
    "r3 = [3, 4, 3]\n",
    "\n",
    "# Create the plot\n",
    "fig.line(x=ticker_values, y=r1, legend_label=\"r1\", color=\"#1d6b99\")\n",
    "fig.line(x=ticker_values, y=r2, legend_label=\"r2\", color=\"#cf513e\")\n",
    "fig.line(x=ticker_values, y=r3, legend_label=\"r3\", color=\"#f0af07\")\n",
    "\n",
    "# Add titles and labels\n",
    "fig.title.text = \"Single-region spatiotemporal reduction\"\n",
    "fig.xaxis.axis_label = \"Image date\"\n",
    "fig.yaxis.axis_label = \"Reduced values\"\n",
    "fig.y_range.start = 0\n",
    "fig.y_range.end = 5\n",
    "fig.legend.title = \"Region names\"\n",
    "fig.legend.location = \"top_right\"\n",
    "fig.xaxis.ticker = ticker_values\n",
    "fig.xaxis.major_label_overrides = {i: date for i, date in enumerate(dates)}\n",
    "fig.xgrid.grid_line_color = None\n",
    "fig.legend.orientation = \"horizontal\"\n",
    "fig.outline_line_color = None\n",
    "\n",
    "show(fig)"
   ]
  },
  {
   "cell_type": "markdown",
   "metadata": {},
   "source": [
    "Use `plot_doy_by_regions` to display a single image band day-of-year time series for multiple regions, where each distinct region is presented as a unique series. It is useful for comparing annual single-band time series among regions. For instance, in this example, annual MODIS-derived NDVI profiles for forest, desert, and grassland ecoregions are plotted, providing a convenient comparison of NDVI response by region. Note that intra-annual observations occurring on the same day-of-year are reduced by their mean."
   ]
  },
  {
   "cell_type": "code",
   "execution_count": null,
   "metadata": {},
   "outputs": [],
   "source": [
    "fig = figure(width=800, height=400)\n",
    "\n",
    "vegIndices.bokeh.plot_doy_by_regions(\n",
    "    regions = ecoregions,\n",
    "    label = \"label\",\n",
    "    spatialReducer = \"mean\",\n",
    "    timeReducer = \"mean\",\n",
    "    scale = 500,\n",
    "    band = \"NDVI\",\n",
    "    figure = fig,\n",
    "    dateProperty = \"system:time_start\",\n",
    "    colors = ['#f0af07', '#0f8755', '#76b349']\n",
    ")\n",
    "\n",
    "# once created the axes can be modified as needed using pure matplotlib functions\n",
    "fig.yaxis.axis_label = \"NDVI (x1e4)\"\n",
    "fig.title.text = \"Average NDVI Values by doy in each ecoregion\"\n",
    "\n",
    "show(fig)"
   ]
  },
  {
   "cell_type": "markdown",
   "metadata": {},
   "source": [
    "### plot doy by seasons \n",
    "\n",
    "In case the observation you want to analyse are only meaningful on a subset of the year a variant of the previous method allows you to plot the data by season. The season is defined by the `seasonStart` and `seasonEnd` parameters, which are 2 numbers between 1 and 366 representing the start and end of the season. To set them, the user can use the {py:method}`ee.Date.getRelative` or {py:class}`time.struct_time` method to get the day of the year. \n",
    "\n",
    "```{note} \n",
    "The default season is a year (1, 366).\n",
    "```"
   ]
  },
  {
   "cell_type": "code",
   "execution_count": null,
   "metadata": {},
   "outputs": [],
   "source": [
    "# reduce the regions to grassland\n",
    "grassland = ecoregions.filter(ee.Filter.eq(\"label\", \"Grassland\"))\n",
    "\n",
    "# for plot speed and lisibility only keep 2 years (2010 and 2020) for the example\n",
    "indices = vegIndices.filter(\n",
    "        ee.Filter.Or(\n",
    "            ee.Filter.date(\"2012-01-01\", \"2012-12-31\"),\n",
    "            ee.Filter.date(\"2019-01-01\", \"2019-12-31\"),\n",
    "        )\n",
    ")"
   ]
  },
  {
   "cell_type": "code",
   "execution_count": null,
   "metadata": {},
   "outputs": [],
   "source": [
    "fig = figure(width=800, height=400)\n",
    "\n",
    "indices.bokeh.plot_doy_by_seasons(\n",
    "    band = \"NDVI\",\n",
    "    region = grassland.geometry(),\n",
    "    seasonStart = ee.Date(\"2022-04-15\").getRelative(\"day\", \"year\"),\n",
    "    seasonEnd = ee.Date(\"2022-09-15\").getRelative(\"day\", \"year\"),\n",
    "    reducer = \"mean\",\n",
    "    scale = 500,\n",
    "    figure = fig,\n",
    "    colors = ['#39a8a7', '#9c4f97']\n",
    ")\n",
    "\n",
    "# once created the axes can be modified as needed using pure matplotlib functions\n",
    "fig.yaxis.axis_label = \"NDVI (x1e4)\"\n",
    "fig.title.text = \"Average NDVI Values during growing season in Grassland\"\n",
    "\n",
    "show(fig)"
   ]
  },
  {
   "cell_type": "code",
   "execution_count": null,
   "metadata": {},
   "outputs": [],
   "source": [
    "fig = figure(width=800, height=400)\n",
    "\n",
    "indices.bokeh.plot_doy_by_seasons(\n",
    "    band = \"NDVI\",\n",
    "    region = grassland.geometry(),\n",
    "    reducer = \"mean\",\n",
    "    scale = 500,\n",
    "    figure = fig,\n",
    "    colors = ['#39a8a7', '#9c4f97']\n",
    ")\n",
    "\n",
    "# once created the axes can be modified as needed using pure matplotlib functions\n",
    "fig.yaxis.axis_label = \"NDVI (x1e4)\"\n",
    "fig.title.text = \"Average NDVI Values by years\"\n",
    "\n",
    "show(fig)"
   ]
  },
  {
   "cell_type": "code",
   "execution_count": null,
   "metadata": {},
   "outputs": [],
   "source": []
  }
 ],
 "metadata": {
  "kernelspec": {
   "display_name": "ipygee",
   "language": "python",
   "name": "python3"
  },
  "language_info": {
   "codemirror_mode": {
    "name": "ipython",
    "version": 3
   },
   "file_extension": ".py",
   "mimetype": "text/x-python",
   "name": "python",
   "nbconvert_exporter": "python",
   "pygments_lexer": "ipython3",
   "version": "3.10.16"
  }
 },
 "nbformat": 4,
 "nbformat_minor": 2
}
