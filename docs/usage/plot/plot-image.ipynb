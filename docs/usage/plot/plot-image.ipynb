{
 "cells": [
  {
   "cell_type": "markdown",
   "metadata": {},
   "source": [
    "# Plot Image\n",
    "\n",
    "The `geetools` extention contains a set of functions for reducing `ee.Image` objects by region(s) and rendering charts from the results. The choice of function dictates the arrangement of data in the chart, i.e., what defines x- and y-axis values and what defines the series. Use the following function descriptions and examples to determine the best function and chart type for your purpose.\n"
   ]
  },
  {
   "cell_type": "code",
   "execution_count": null,
   "metadata": {
    "tags": [
     "remove-cell"
    ]
   },
   "outputs": [],
   "source": [
    "import ee\n",
    "from geetools.utils import initialize_documentation\n",
    "\n",
    "initialize_documentation()"
   ]
  },
  {
   "cell_type": "markdown",
   "metadata": {},
   "source": [
    "[![github](https://img.shields.io/badge/-see%20sources-white?logo=github&labelColor=555)](https://github.com/gee-community/ipygee/blob/main/docs/usage/plot/plot-image.ipynb)\n",
    "[![colab](https://img.shields.io/badge/-open%20in%20colab-blue?logo=googlecolab&labelColor=555)](https://colab.research.google.com/github/gee-community/ipygee/blob/main/docs/usage/plot/plot-image.ipynb)"
   ]
  },
  {
   "cell_type": "markdown",
   "metadata": {},
   "source": [
    "## Set up environment\n",
    "\n",
    "Install all the requireed libs if necessary. and perform the import satements upstream."
   ]
  },
  {
   "cell_type": "code",
   "execution_count": null,
   "metadata": {},
   "outputs": [],
   "source": [
    "# uncomment if installation of libs is necessary\n",
    "# !pip install earthengine-api geetools"
   ]
  },
  {
   "cell_type": "code",
   "execution_count": null,
   "metadata": {},
   "outputs": [],
   "source": [
    "from bokeh.io import output_notebook\n",
    "\n",
    "import ipygee  # noqa: F401\n",
    "\n",
    "output_notebook()"
   ]
  },
  {
   "cell_type": "code",
   "execution_count": null,
   "metadata": {},
   "outputs": [],
   "source": [
    "# uncomment if authetication to GEE is needed\n",
    "# ee.Authenticate()\n",
    "# ee.Initialize(project=\"<your project>\")"
   ]
  },
  {
   "cell_type": "markdown",
   "metadata": {},
   "source": [
    "## Example data\n",
    "\n",
    "The following examples rely on a `ee.FeatureCollection` composed of three ecoregion features that define regions by which to reduce image data. The Image data are PRISM climate normals, where bands describe climate variables per month; e.g., July precipitation or January mean temperature.\n"
   ]
  },
  {
   "cell_type": "code",
   "execution_count": null,
   "metadata": {},
   "outputs": [],
   "source": [
    "ecoregions = ee.FeatureCollection(\"projects/google/charts_feature_example\").select(\n",
    "    [\"label\", \"value\", \"warm\"]\n",
    ")\n",
    "normClim = ee.ImageCollection(\"OREGONSTATE/PRISM/Norm91m\").toBands()"
   ]
  },
  {
   "cell_type": "markdown",
   "metadata": {},
   "source": [
    "## Plot by regions\n",
    "\n",
    "Reduction regions are plotted along the x-axis, labeled by values of a selected feature property. Series are defined by band names whose region reduction results are plotted along the y-axis.\n",
    "\n",
    "If you want to use another plotting library, you can use the `byRegions` function to get the data and plot it with your favorite library.\n"
   ]
  },
  {
   "cell_type": "code",
   "execution_count": null,
   "metadata": {
    "tags": [
     "remove-input"
    ]
   },
   "outputs": [],
   "source": [
    "import numpy as np\n",
    "from bokeh.plotting import figure, show\n",
    "\n",
    "# Data for the chart\n",
    "features = [\"r1\", \"r2\", \"r3\"]\n",
    "p1_values = [0.5, 2.5, 4.5]\n",
    "p2_values = [1.5, 3.5, 5.5]\n",
    "p3_values = [2.5, 4.0, 6.5]\n",
    "\n",
    "# Set the width of the bars\n",
    "bar_width = 0.25\n",
    "index = np.arange(len(features))\n",
    "offset = 0.02\n",
    "\n",
    "# Create the plot\n",
    "fig = figure(width=800, height=400)\n",
    "\n",
    "# Plotting the bars\n",
    "rects1 = fig.vbar(x=index, top=p1_values, width=bar_width, legend_label=\"b1\", color=\"#1d6b99\")\n",
    "rects2 = fig.vbar(\n",
    "    x=index + (bar_width + offset), top=p2_values, width=bar_width, legend_label=\"b2\", color=\"#cf513e\"\n",
    ")\n",
    "rects3 = fig.vbar(\n",
    "    x=index + 2 * (bar_width + offset),\n",
    "    top=p3_values,\n",
    "    width=bar_width,\n",
    "    legend_label=\"b3\",\n",
    "    color=\"#f0af07\",\n",
    ")\n",
    "\n",
    "# Add labels, title, and custom x-axis tick labels\n",
    "fig.yaxis.axis_label = \"Series reduction value\"\n",
    "fig.xaxis.axis_label = \"Regions by feature property value\"\n",
    "fig.outline_line_color = None\n",
    "fig.legend.title = \"Band names\"\n",
    "fig.legend.location = \"top_left\"\n",
    "fig.xaxis.ticker = index + (bar_width + offset)\n",
    "fig.xaxis.major_label_overrides = dict(zip(index + (bar_width + offset), features))\n",
    "fig.xgrid.grid_line_color = None\n",
    "fig.legend.orientation = \"horizontal\"\n",
    "\n",
    "# Show the plot\n",
    "show(fig)"
   ]
  },
  {
   "cell_type": "markdown",
   "metadata": {},
   "source": [
    "### Column chart\n",
    "\n",
    "In this example, image bands representing average monthly temperature are reduced to the mean among pixels intersecting each of three ecoregions. The results are plotted as columns per month by ecoregion, where column height indicates the respective mean monthly temperature."
   ]
  },
  {
   "cell_type": "code",
   "execution_count": null,
   "metadata": {},
   "outputs": [],
   "source": [
    "fig = figure(width=800, height=400)\n",
    "\n",
    "normClim.bokeh.plot_by_regions(\n",
    "    type=\"bar\",\n",
    "    regions=ecoregions,\n",
    "    reducer=\"mean\",\n",
    "    scale=500,\n",
    "    regionId=\"label\",\n",
    "    bands=[\n",
    "        \"01_tmean\",\n",
    "        \"02_tmean\",\n",
    "        \"03_tmean\",\n",
    "        \"04_tmean\",\n",
    "        \"05_tmean\",\n",
    "        \"06_tmean\",\n",
    "        \"07_tmean\",\n",
    "        \"08_tmean\",\n",
    "        \"09_tmean\",\n",
    "        \"10_tmean\",\n",
    "        \"11_tmean\",\n",
    "        \"12_tmean\",\n",
    "    ],\n",
    "    labels=[\"jan\", \"feb\", \"mar\", \"apr\", \"may\", \"jun\", \"jul\", \"aug\", \"sep\", \"oct\", \"nov\", \"dec\"],\n",
    "    colors=[\n",
    "        \"#604791\",\n",
    "        \"#1d6b99\",\n",
    "        \"#39a8a7\",\n",
    "        \"#0f8755\",\n",
    "        \"#76b349\",\n",
    "        \"#f0af07\",\n",
    "        \"#e37d05\",\n",
    "        \"#cf513e\",\n",
    "        \"#96356f\",\n",
    "        \"#724173\",\n",
    "        \"#9c4f97\",\n",
    "        \"#696969\",\n",
    "    ],\n",
    "    figure=fig,\n",
    ")\n",
    "\n",
    "# once created the figure can be modified as needed using pure bokeh members\n",
    "fig.title.text = \"Average Monthly Temperature by Ecoregion\"\n",
    "fig.xaxis.axis_label = \"Ecoregion\"\n",
    "fig.yaxis.axis_label = \"Temperature (°C)\"\n",
    "\n",
    "show(fig)"
   ]
  },
  {
   "cell_type": "markdown",
   "metadata": {},
   "source": [
    "## Bar chart \n",
    "\n",
    "The previous column chart can be swiped from vertical column to horizontal bars a bar chart by changing the `type` input from 'bar' to 'barh'."
   ]
  },
  {
   "cell_type": "code",
   "execution_count": null,
   "metadata": {},
   "outputs": [],
   "source": [
    "fig = figure(width=800, height=400)\n",
    "\n",
    "normClim.bokeh.plot_by_regions(\n",
    "    type=\"barh\",\n",
    "    regions=ecoregions,\n",
    "    reducer=\"mean\",\n",
    "    scale=500,\n",
    "    regionId=\"label\",\n",
    "    bands=[\n",
    "        \"01_tmean\",\n",
    "        \"02_tmean\",\n",
    "        \"03_tmean\",\n",
    "        \"04_tmean\",\n",
    "        \"05_tmean\",\n",
    "        \"06_tmean\",\n",
    "        \"07_tmean\",\n",
    "        \"08_tmean\",\n",
    "        \"09_tmean\",\n",
    "        \"10_tmean\",\n",
    "        \"11_tmean\",\n",
    "        \"12_tmean\",\n",
    "    ],\n",
    "    labels=[\"jan\", \"feb\", \"mar\", \"apr\", \"may\", \"jun\", \"jul\", \"aug\", \"sep\", \"oct\", \"nov\", \"dec\"],\n",
    "    colors=[\n",
    "        \"#604791\",\n",
    "        \"#1d6b99\",\n",
    "        \"#39a8a7\",\n",
    "        \"#0f8755\",\n",
    "        \"#76b349\",\n",
    "        \"#f0af07\",\n",
    "        \"#e37d05\",\n",
    "        \"#cf513e\",\n",
    "        \"#96356f\",\n",
    "        \"#724173\",\n",
    "        \"#9c4f97\",\n",
    "        \"#696969\",\n",
    "    ],\n",
    "    figure=fig,\n",
    ")\n",
    "\n",
    "# once created the figure can be modified as needed using pure bokeh members\n",
    "fig.title.text = \"Average Monthly Temperature by Ecoregion\"\n",
    "fig.yaxis.axis_label = \"Ecoregion\"\n",
    "fig.xaxis.axis_label = \"Temperature (°C)\"\n",
    "show(fig)"
   ]
  },
  {
   "cell_type": "markdown",
   "metadata": {},
   "source": [
    "### Stacked bar chart \n",
    "\n",
    "An absolute stacked bar chart relates the total of a numeric variable by increments of a contributing categorical variable series. For instance, in this example, total precipitation is plotted as the accumulation of monthly precipitation over a year, by ecoregion. Monthly precipitation totals are derived from image bands, where each band represents a grid of average total precipitation for a given month, reduced to the mean of the pixels intersecting each of three ecoregions."
   ]
  },
  {
   "cell_type": "code",
   "execution_count": null,
   "metadata": {},
   "outputs": [],
   "source": [
    "fig = figure(width=800, height=400)\n",
    "\n",
    "normClim.bokeh.plot_by_regions(\n",
    "    type=\"stacked\",\n",
    "    regions=ecoregions,\n",
    "    reducer=\"mean\",\n",
    "    scale=500,\n",
    "    regionId=\"label\",\n",
    "    bands=[\n",
    "        \"01_ppt\",\n",
    "        \"02_ppt\",\n",
    "        \"03_ppt\",\n",
    "        \"04_ppt\",\n",
    "        \"05_ppt\",\n",
    "        \"06_ppt\",\n",
    "        \"07_ppt\",\n",
    "        \"08_ppt\",\n",
    "        \"09_ppt\",\n",
    "        \"10_ppt\",\n",
    "        \"11_ppt\",\n",
    "        \"12_ppt\",\n",
    "    ],\n",
    "    labels=[\"jan\", \"feb\", \"mar\", \"apr\", \"may\", \"jun\", \"jul\", \"aug\", \"sep\", \"oct\", \"nov\", \"dec\"],\n",
    "    colors=[\n",
    "        \"#604791\",\n",
    "        \"#1d6b99\",\n",
    "        \"#39a8a7\",\n",
    "        \"#0f8755\",\n",
    "        \"#76b349\",\n",
    "        \"#f0af07\",\n",
    "        \"#e37d05\",\n",
    "        \"#cf513e\",\n",
    "        \"#96356f\",\n",
    "        \"#724173\",\n",
    "        \"#9c4f97\",\n",
    "        \"#696969\",\n",
    "    ],\n",
    "    figure=fig,\n",
    ")\n",
    "\n",
    "# once created the figure can be modified as needed using pure bokeh members\n",
    "fig.title.text = \"Average Monthly Temperature by Ecoregion\"\n",
    "fig.xaxis.axis_label = \"Ecoregion\"\n",
    "fig.yaxis.axis_label = \"Temperature (°C)\"\n",
    "\n",
    "show(fig)"
   ]
  },
  {
   "cell_type": "markdown",
   "metadata": {},
   "source": [
    "## Plot by bands\n",
    "\n",
    "Bands are plotted along the x-axis. Series are labeled by values of a feature property. Reduction of the region defined by the geometry of respective series features are plotted along the y-axis."
   ]
  },
  {
   "cell_type": "code",
   "execution_count": null,
   "metadata": {
    "tags": [
     "remove-input"
    ]
   },
   "outputs": [],
   "source": [
    "import numpy as np\n",
    "from bokeh.plotting import figure, show\n",
    "\n",
    "# Data for the chart\n",
    "features = [\"b1\", \"b2\", \"b3\"]\n",
    "p1_values = [0.5, 2.5, 4.5]\n",
    "p2_values = [1.5, 3.5, 5.5]\n",
    "p3_values = [2.5, 4.0, 6.5]\n",
    "\n",
    "# Set the width of the bars\n",
    "bar_width = 0.25\n",
    "index = np.arange(len(features))\n",
    "offset = 0.02\n",
    "\n",
    "# Create the plot\n",
    "fig = figure(width=800, height=400)\n",
    "\n",
    "# Plotting the bars\n",
    "rects1 = fig.vbar(x=index, top=p1_values, width=bar_width, legend_label=\"r1\", color=\"#1d6b99\")\n",
    "rects2 = fig.vbar(\n",
    "    x=index + (bar_width + offset), top=p2_values, width=bar_width, legend_label=\"r2\", color=\"#cf513e\"\n",
    ")\n",
    "rects3 = fig.vbar(\n",
    "    x=index + 2 * (bar_width + offset),\n",
    "    top=p3_values,\n",
    "    width=bar_width,\n",
    "    legend_label=\"r3\",\n",
    "    color=\"#f0af07\",\n",
    ")\n",
    "\n",
    "# Add labels, title, and custom x-axis tick labels\n",
    "fig.yaxis.axis_label = \"Series reduction value\"\n",
    "fig.xaxis.axis_label = \"band names\"\n",
    "fig.outline_line_color = None\n",
    "fig.legend.title = \"Regions by feature property value\"\n",
    "fig.legend.location = \"top_left\"\n",
    "fig.xaxis.ticker = index + (bar_width + offset)\n",
    "fig.xaxis.major_label_overrides = dict(zip(index + (bar_width + offset), features))\n",
    "fig.xgrid.grid_line_color = None\n",
    "fig.legend.orientation = \"horizontal\"\n",
    "\n",
    "# Show the plot\n",
    "show(fig)"
   ]
  },
  {
   "cell_type": "markdown",
   "metadata": {},
   "source": [
    "### Colmun chart \n",
    "\n",
    "This chart shows total average precipitation per month for three ecoregions. The results are derived from the region reduction of an image where each band is a grid of average total precipitation for a given month. Bands are plotted along the x-axis and regions define the series."
   ]
  },
  {
   "cell_type": "code",
   "execution_count": null,
   "metadata": {},
   "outputs": [],
   "source": [
    "fig = figure(width=800, height=400)\n",
    "\n",
    "normClim.bokeh.plot_by_bands(\n",
    "    type=\"bar\",\n",
    "    regions=ecoregions,\n",
    "    reducer=\"mean\",\n",
    "    scale=500,\n",
    "    regionId=\"label\",\n",
    "    bands=[\n",
    "        \"01_ppt\",\n",
    "        \"02_ppt\",\n",
    "        \"03_ppt\",\n",
    "        \"04_ppt\",\n",
    "        \"05_ppt\",\n",
    "        \"06_ppt\",\n",
    "        \"07_ppt\",\n",
    "        \"08_ppt\",\n",
    "        \"09_ppt\",\n",
    "        \"10_ppt\",\n",
    "        \"11_ppt\",\n",
    "        \"12_ppt\",\n",
    "    ],\n",
    "    labels=[\"jan\", \"feb\", \"mar\", \"apr\", \"may\", \"jun\", \"jul\", \"aug\", \"sep\", \"oct\", \"nov\", \"dec\"],\n",
    "    colors=[\"#f0af07\", \"#0f8755\", \"#76b349\"],\n",
    "    figure=fig,\n",
    ")\n",
    "\n",
    "# once created the figure can be modified as needed using pure bokeh members\n",
    "fig.title.text = \"Average Monthly Precipitation by Ecoregion\"\n",
    "fig.xaxis.axis_label = \"Month\"\n",
    "fig.yaxis.axis_label = \"Precipitation (mm)\"\n",
    "\n",
    "show(fig)"
   ]
  },
  {
   "cell_type": "markdown",
   "metadata": {},
   "source": [
    "### Line chart \n",
    "\n",
    "The previous column chart can be rendered as a line chart by changing the `type` input from \"bar\" to \"plot\"."
   ]
  },
  {
   "cell_type": "code",
   "execution_count": null,
   "metadata": {},
   "outputs": [],
   "source": [
    "fig = figure(width=800, height=400)\n",
    "\n",
    "normClim.bokeh.plot_by_bands(\n",
    "    type=\"plot\",\n",
    "    regions=ecoregions,\n",
    "    reducer=\"mean\",\n",
    "    scale=500,\n",
    "    regionId=\"label\",\n",
    "    bands=[\n",
    "        \"01_ppt\",\n",
    "        \"02_ppt\",\n",
    "        \"03_ppt\",\n",
    "        \"04_ppt\",\n",
    "        \"05_ppt\",\n",
    "        \"06_ppt\",\n",
    "        \"07_ppt\",\n",
    "        \"08_ppt\",\n",
    "        \"09_ppt\",\n",
    "        \"10_ppt\",\n",
    "        \"11_ppt\",\n",
    "        \"12_ppt\",\n",
    "    ],\n",
    "    labels=[\"jan\", \"feb\", \"mar\", \"apr\", \"may\", \"jun\", \"jul\", \"aug\", \"sep\", \"oct\", \"nov\", \"dec\"],\n",
    "    colors=[\"#f0af07\", \"#0f8755\", \"#76b349\"],\n",
    "    figure=fig,\n",
    ")\n",
    "\n",
    "# once created the figure can be modified as needed using pure bokeh members\n",
    "fig.title.text = \"Average Monthly Precipitation by Ecoregion\"\n",
    "fig.xaxis.axis_label = \"Month\"\n",
    "fig.yaxis.axis_label = \"Precipitation (mm)\"\n",
    "\n",
    "show(fig)"
   ]
  },
  {
   "cell_type": "markdown",
   "metadata": {},
   "source": [
    "### Area chart \n",
    "\n",
    "The previous column chart can be rendered as a line chart by changing the `type` input from \"plot\" to \"fill_between\"."
   ]
  },
  {
   "cell_type": "code",
   "execution_count": null,
   "metadata": {},
   "outputs": [],
   "source": [
    "fig = figure(width=800, height=400)\n",
    "\n",
    "fc = normClim.bokeh.plot_by_bands(\n",
    "    type=\"fill_between\",\n",
    "    regions=ecoregions,\n",
    "    reducer=\"mean\",\n",
    "    scale=500,\n",
    "    regionId=\"label\",\n",
    "    bands=[\n",
    "        \"01_ppt\",\n",
    "        \"02_ppt\",\n",
    "        \"03_ppt\",\n",
    "        \"04_ppt\",\n",
    "        \"05_ppt\",\n",
    "        \"06_ppt\",\n",
    "        \"07_ppt\",\n",
    "        \"08_ppt\",\n",
    "        \"09_ppt\",\n",
    "        \"10_ppt\",\n",
    "        \"11_ppt\",\n",
    "        \"12_ppt\",\n",
    "    ],\n",
    "    labels=[\"jan\", \"feb\", \"mar\", \"apr\", \"may\", \"jun\", \"jul\", \"aug\", \"sep\", \"oct\", \"nov\", \"dec\"],\n",
    "    colors=[\"#f0af07\", \"#0f8755\", \"#76b349\"],\n",
    "    figure=fig,\n",
    ")\n",
    "\n",
    "# once created the figure can be modified as needed using pure bokeh members\n",
    "fig.title.text = \"Average Monthly Precipitation by Ecoregion\"\n",
    "fig.xaxis.axis_label = \"Month\"\n",
    "fig.yaxis.axis_label = \"Precipitation (mm)\"\n",
    "\n",
    "show(fig)"
   ]
  },
  {
   "cell_type": "markdown",
   "metadata": {},
   "source": [
    "### Pie chart \n",
    "\n",
    "Average monthly precipitation is displayed as a proportion of the average total annual precipitation for a forest ecoregion. Image bands representing monthly precipitation are subset from a climate normals dataset and reduced to the mean of pixels intersecting the ecoregion."
   ]
  },
  {
   "cell_type": "code",
   "execution_count": null,
   "metadata": {},
   "outputs": [],
   "source": [
    "fig = figure(match_aspect=True)\n",
    "\n",
    "normClim.bokeh.plot_by_bands(\n",
    "    type=\"pie\",\n",
    "    regions=ecoregions.filter(ee.Filter.eq(\"label\", \"Forest\")),\n",
    "    reducer=\"mean\",\n",
    "    scale=500,\n",
    "    regionId=\"label\",\n",
    "    bands=[\n",
    "        \"01_ppt\",\n",
    "        \"02_ppt\",\n",
    "        \"03_ppt\",\n",
    "        \"04_ppt\",\n",
    "        \"05_ppt\",\n",
    "        \"06_ppt\",\n",
    "        \"07_ppt\",\n",
    "        \"08_ppt\",\n",
    "        \"09_ppt\",\n",
    "        \"10_ppt\",\n",
    "        \"11_ppt\",\n",
    "        \"12_ppt\",\n",
    "    ],\n",
    "    labels=[\"jan\", \"feb\", \"mar\", \"apr\", \"may\", \"jun\", \"jul\", \"aug\", \"sep\", \"oct\", \"nov\", \"dec\"],\n",
    "    colors=[\n",
    "        \"#604791\",\n",
    "        \"#1d6b99\",\n",
    "        \"#39a8a7\",\n",
    "        \"#0f8755\",\n",
    "        \"#76b349\",\n",
    "        \"#f0af07\",\n",
    "        \"#e37d05\",\n",
    "        \"#cf513e\",\n",
    "        \"#96356f\",\n",
    "        \"#724173\",\n",
    "        \"#9c4f97\",\n",
    "        \"#696969\",\n",
    "    ],\n",
    "    figure=fig,\n",
    ")\n",
    "\n",
    "# once created the figure can be modified as needed using pure bokeh members\n",
    "fig.title.text = \"Average Monthly Precipitation in Forest\"\n",
    "\n",
    "show(fig)"
   ]
  },
  {
   "cell_type": "markdown",
   "metadata": {},
   "source": [
    "### Donuts chart \n",
    "\n",
    "The previous chart can be represented as a donut by replacing the `type` parameter with `donut`."
   ]
  },
  {
   "cell_type": "code",
   "execution_count": null,
   "metadata": {},
   "outputs": [],
   "source": [
    "fig = figure(match_aspect=True)\n",
    "\n",
    "normClim.bokeh.plot_by_bands(\n",
    "    type=\"donut\",\n",
    "    regions=ecoregions.filter(ee.Filter.eq(\"label\", \"Forest\")),\n",
    "    reducer=\"mean\",\n",
    "    scale=500,\n",
    "    regionId=\"label\",\n",
    "    bands=[\n",
    "        \"01_ppt\",\n",
    "        \"02_ppt\",\n",
    "        \"03_ppt\",\n",
    "        \"04_ppt\",\n",
    "        \"05_ppt\",\n",
    "        \"06_ppt\",\n",
    "        \"07_ppt\",\n",
    "        \"08_ppt\",\n",
    "        \"09_ppt\",\n",
    "        \"10_ppt\",\n",
    "        \"11_ppt\",\n",
    "        \"12_ppt\",\n",
    "    ],\n",
    "    labels=[\"jan\", \"feb\", \"mar\", \"apr\", \"may\", \"jun\", \"jul\", \"aug\", \"sep\", \"oct\", \"nov\", \"dec\"],\n",
    "    colors=[\n",
    "        \"#604791\",\n",
    "        \"#1d6b99\",\n",
    "        \"#39a8a7\",\n",
    "        \"#0f8755\",\n",
    "        \"#76b349\",\n",
    "        \"#f0af07\",\n",
    "        \"#e37d05\",\n",
    "        \"#cf513e\",\n",
    "        \"#96356f\",\n",
    "        \"#724173\",\n",
    "        \"#9c4f97\",\n",
    "        \"#696969\",\n",
    "    ],\n",
    "    figure=fig,\n",
    ")\n",
    "\n",
    "# once created the figure can be modified as needed using pure bokeh members\n",
    "fig.title.text = \"Average Monthly Precipitation in Forest\"\n",
    "\n",
    "show(fig)"
   ]
  },
  {
   "cell_type": "markdown",
   "metadata": {},
   "source": [
    "## histogram plot \n",
    "\n",
    "A histogram of pixel values within a region surrounding Salt Lake City, Utah, USA are displayed for three MODIS surface reflectance bands. The histogram is plotted as a line chart, where x-axis values are pixel values and y-axis values are the frequency of pixels with the respective value."
   ]
  },
  {
   "cell_type": "code",
   "execution_count": null,
   "metadata": {},
   "outputs": [],
   "source": [
    "# custom image for this specific chart\n",
    "modisSr = (\n",
    "    ee.ImageCollection(\"MODIS/061/MOD09A1\")\n",
    "    .filter(ee.Filter.date(\"2018-06-01\", \"2018-09-01\"))\n",
    "    .select([\"sur_refl_b01\", \"sur_refl_b02\", \"sur_refl_b06\"])\n",
    "    .mean()\n",
    ")\n",
    "histRegion = ee.Geometry.Rectangle([-112.60, 40.60, -111.18, 41.22])"
   ]
  },
  {
   "cell_type": "code",
   "execution_count": null,
   "metadata": {},
   "outputs": [],
   "source": [
    "fig = figure(width=800, height=400)\n",
    "\n",
    "# initialize the plot with the ecoregions data\n",
    "modisSr.bokeh.plot_hist(\n",
    "    bands=[\"sur_refl_b01\", \"sur_refl_b02\", \"sur_refl_b06\"],\n",
    "    labels=[[\"Red\", \"NIR\", \"SWIR\"]],\n",
    "    colors=[\"#cf513e\", \"#1d6b99\", \"#f0af07\"],\n",
    "    figure=fig,\n",
    "    bins=100,\n",
    "    scale=500,\n",
    "    region=histRegion,\n",
    ")\n",
    "\n",
    "# once created the figure can be modified as needed using pure bokeh members\n",
    "fig.title.text = \"Modis SR Reflectance Histogram\"\n",
    "fig.xaxis.axis_label = \"Reflectance (x1e4)\"\n",
    "\n",
    "show(fig)"
   ]
  },
  {
   "cell_type": "code",
   "execution_count": null,
   "metadata": {},
   "outputs": [],
   "source": []
  }
 ],
 "metadata": {
  "kernelspec": {
   "display_name": "ipygee",
   "language": "python",
   "name": "python3"
  },
  "language_info": {
   "codemirror_mode": {
    "name": "ipython",
    "version": 3
   },
   "file_extension": ".py",
   "mimetype": "text/x-python",
   "name": "python",
   "nbconvert_exporter": "python",
   "pygments_lexer": "ipython3",
   "version": "3.10.16"
  }
 },
 "nbformat": 4,
 "nbformat_minor": 2
}
