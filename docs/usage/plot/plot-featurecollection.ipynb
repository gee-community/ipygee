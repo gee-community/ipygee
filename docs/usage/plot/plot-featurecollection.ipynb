{
 "cells": [
  {
   "cell_type": "markdown",
   "metadata": {},
   "source": [
    "# Plot FeatureCollection\n",
    "\n",
    "The `geetools` extension contains a set of functions for rendering charts from `ee.FeatureCollection` objects. The choice of function determines the arrangement of data in the chart, i.e., what defines x- and y-axis values and what defines the series. Use the following function descriptions and examples to determine the best function and chart type for your purpose."
   ]
  },
  {
   "cell_type": "code",
   "execution_count": null,
   "metadata": {
    "tags": [
     "remove-cell"
    ]
   },
   "outputs": [],
   "source": [
    "import ee\n",
    "from geetools.utils import initialize_documentation\n",
    "\n",
    "initialize_documentation()"
   ]
  },
  {
   "cell_type": "markdown",
   "metadata": {},
   "source": [
    "[![github](https://img.shields.io/badge/-see%20sources-white?logo=github&labelColor=555)](https://github.com/gee-community/ipygee/blob/main/docs/usage/plot/plot-featurecollection.ipynb)\n",
    "[![colab](https://img.shields.io/badge/-open%20in%20colab-blue?logo=googlecolab&labelColor=555)](https://colab.research.google.com/github/gee-community/ipygee/blob/main/docs/usage/plot/plot-featurecollection.ipynb)"
   ]
  },
  {
   "cell_type": "markdown",
   "metadata": {},
   "source": [
    "## Set up environment\n",
    "\n",
    "Install all the required libs if necessary and perform the import statements upstream."
   ]
  },
  {
   "cell_type": "code",
   "execution_count": null,
   "metadata": {},
   "outputs": [],
   "source": [
    "# uncomment if installation of libs is necessary\n",
    "# !pip install earthengine-api geetools"
   ]
  },
  {
   "cell_type": "code",
   "execution_count": null,
   "metadata": {},
   "outputs": [],
   "source": [
    "from bokeh.io import output_notebook\n",
    "\n",
    "import ipygee  # noqa: F401\n",
    "\n",
    "output_notebook()"
   ]
  },
  {
   "cell_type": "code",
   "execution_count": null,
   "metadata": {},
   "outputs": [],
   "source": [
    "# uncomment if authetication to GEE is needed\n",
    "# ee.Authenticate()\n",
    "# ee.Initialize(project=\"<your_project>\")"
   ]
  },
  {
   "cell_type": "markdown",
   "metadata": {},
   "source": [
    "## Example data\n",
    "\n",
    "The following examples rely on a FeatureCollection composed of three ecoregion features with properties that describe climate normals."
   ]
  },
  {
   "cell_type": "code",
   "execution_count": null,
   "metadata": {},
   "outputs": [],
   "source": [
    "# Import the example feature collection.\n",
    "ecoregions = ee.FeatureCollection(\"projects/google/charts_feature_example\")"
   ]
  },
  {
   "cell_type": "markdown",
   "metadata": {},
   "source": [
    "## Plot by features\n",
    "\n",
    "Features are plotted along the x-axis by values of a selected property. Series are defined by a list of property names whose values are plotted along the y-axis. The type of produced chart can be controlled by the `type` parameter as shown in the following examples.\n",
    "\n",
    "If you want to use another plotting library you can get the raw data using the `byFeatures` function."
   ]
  },
  {
   "cell_type": "code",
   "execution_count": null,
   "metadata": {
    "tags": [
     "remove-input"
    ]
   },
   "outputs": [],
   "source": [
    "import numpy as np\n",
    "from bokeh.plotting import figure, show\n",
    "\n",
    "# Data for the chart\n",
    "features = [\"f1\", \"f2\", \"f3\"]\n",
    "p1_values = [0.5, 2.5, 4.5]\n",
    "p2_values = [1.5, 3.5, 5.5]\n",
    "p3_values = [2.5, 4.0, 6.5]\n",
    "\n",
    "# Set the width of the bars\n",
    "bar_width = 0.25\n",
    "index = np.arange(len(features))\n",
    "offset = 0.02\n",
    "\n",
    "# Create the plot\n",
    "fig = figure(width=800, height=400)\n",
    "\n",
    "# Plotting the bars\n",
    "rects1 = fig.vbar(x=index, top=p1_values, width=bar_width, legend_label=\"p1\", color=\"#1d6b99\")\n",
    "rects2 = fig.vbar(\n",
    "    x=index + (bar_width + offset), top=p2_values, width=bar_width, legend_label=\"p2\", color=\"#cf513e\"\n",
    ")\n",
    "rects3 = fig.vbar(\n",
    "    x=index + 2 * (bar_width + offset),\n",
    "    top=p3_values,\n",
    "    width=bar_width,\n",
    "    legend_label=\"p3\",\n",
    "    color=\"#f0af07\",\n",
    ")\n",
    "\n",
    "# Add labels, title, and custom x-axis tick labels\n",
    "fig.yaxis.axis_label = \"Series property value\"\n",
    "fig.xaxis.axis_label = \"Features by property value\"\n",
    "fig.outline_line_color = None\n",
    "fig.legend.title = \"Property names\"\n",
    "fig.legend.location = \"top_left\"\n",
    "fig.xaxis.ticker = index + (bar_width + offset)\n",
    "fig.xaxis.major_label_overrides = dict(zip(index + (bar_width + offset), features))\n",
    "fig.xgrid.grid_line_color = None\n",
    "fig.legend.orientation = \"horizontal\"\n",
    "\n",
    "# Show the plot\n",
    "show(fig)"
   ]
  },
  {
   "cell_type": "markdown",
   "metadata": {},
   "source": [
    "### Column chart\n",
    "\n",
    "Features are plotted along the x-axis, labeled by values of a selected property. Series are represented by adjacent columns defined by a list of property names whose values are plotted along the y-axis."
   ]
  },
  {
   "cell_type": "code",
   "execution_count": null,
   "metadata": {},
   "outputs": [],
   "source": [
    "fig = figure(width=800, height=400)\n",
    "\n",
    "# initialize the plot with the ecoregions data\n",
    "ecoregions.bokeh.plot_by_features(\n",
    "    type=\"bar\",\n",
    "    featureId=\"label\",\n",
    "    properties=[\n",
    "        \"01_tmean\",\n",
    "        \"02_tmean\",\n",
    "        \"03_tmean\",\n",
    "        \"04_tmean\",\n",
    "        \"05_tmean\",\n",
    "        \"06_tmean\",\n",
    "        \"07_tmean\",\n",
    "        \"08_tmean\",\n",
    "        \"09_tmean\",\n",
    "        \"10_tmean\",\n",
    "        \"11_tmean\",\n",
    "        \"12_tmean\",\n",
    "    ],\n",
    "    labels=[\"jan\", \"feb\", \"mar\", \"apr\", \"may\", \"jun\", \"jul\", \"aug\", \"sep\", \"oct\", \"nov\", \"dec\"],\n",
    "    colors=[\n",
    "        \"#604791\",\n",
    "        \"#1d6b99\",\n",
    "        \"#39a8a7\",\n",
    "        \"#0f8755\",\n",
    "        \"#76b349\",\n",
    "        \"#f0af07\",\n",
    "        \"#e37d05\",\n",
    "        \"#cf513e\",\n",
    "        \"#96356f\",\n",
    "        \"#724173\",\n",
    "        \"#9c4f97\",\n",
    "        \"#696969\",\n",
    "    ],\n",
    "    figure=fig,\n",
    ")\n",
    "\n",
    "# once created the figure can be modified as needed using pure bokeh members\n",
    "fig.title.text = \"Average Monthly Temperature by Ecoregion\"\n",
    "fig.xaxis.axis_label = \"Ecoregion\"\n",
    "fig.yaxis.axis_label = \"Temperature (°C)\"\n",
    "\n",
    "show(fig)"
   ]
  },
  {
   "cell_type": "markdown",
   "metadata": {},
   "source": [
    "### Stacked column chart\n",
    "\n",
    "Features are plotted along the x-axis, labeled by values of a selected property. Series are represented by stacked columns defined by a list of property names whose values are plotted along the y-axis as the cumulative series sum."
   ]
  },
  {
   "cell_type": "code",
   "execution_count": null,
   "metadata": {},
   "outputs": [],
   "source": [
    "fig = figure(width=800, height=400)\n",
    "\n",
    "# initialize theplot with the ecoregions data\n",
    "ecoregions.bokeh.plot_by_features(\n",
    "    type=\"stacked\",\n",
    "    featureId=\"label\",\n",
    "    properties=[\n",
    "        \"01_ppt\",\n",
    "        \"02_ppt\",\n",
    "        \"03_ppt\",\n",
    "        \"04_ppt\",\n",
    "        \"05_ppt\",\n",
    "        \"06_ppt\",\n",
    "        \"07_ppt\",\n",
    "        \"08_ppt\",\n",
    "        \"09_ppt\",\n",
    "        \"10_ppt\",\n",
    "        \"11_ppt\",\n",
    "        \"12_ppt\",\n",
    "    ],\n",
    "    labels=[\"jan\", \"feb\", \"mar\", \"apr\", \"may\", \"jun\", \"jul\", \"aug\", \"sep\", \"oct\", \"nov\", \"dec\"],\n",
    "    colors=[\n",
    "        \"#604791\",\n",
    "        \"#1d6b99\",\n",
    "        \"#39a8a7\",\n",
    "        \"#0f8755\",\n",
    "        \"#76b349\",\n",
    "        \"#f0af07\",\n",
    "        \"#e37d05\",\n",
    "        \"#cf513e\",\n",
    "        \"#96356f\",\n",
    "        \"#724173\",\n",
    "        \"#9c4f97\",\n",
    "        \"#696969\",\n",
    "    ],\n",
    "    figure=fig,\n",
    ")\n",
    "\n",
    "# once created the figure can be modified as needed using pure bokeh members\n",
    "fig.title.text = \"Average Monthly Precipitation by Ecoregion\"\n",
    "fig.xaxis.axis_label = \"Ecoregion\"\n",
    "fig.yaxis.axis_label = \"Precipitation (mm)\"\n",
    "\n",
    "show(fig)"
   ]
  },
  {
   "cell_type": "markdown",
   "metadata": {},
   "source": [
    "### Scatter chart\n",
    "\n",
    "Features are plotted along the x-axis, labeled by values of a selected property. Series are represented by points defined by a list of property names whose values are plotted along the y-axis."
   ]
  },
  {
   "cell_type": "code",
   "execution_count": null,
   "metadata": {},
   "outputs": [],
   "source": [
    "fig = figure(width=800, height=400)\n",
    "\n",
    "# initialize theplot with the ecoregions data\n",
    "ecoregions.bokeh.plot_by_features(\n",
    "    type=\"scatter\",\n",
    "    featureId=\"label\",\n",
    "    properties=[\"01_ppt\", \"06_ppt\", \"09_ppt\"],\n",
    "    labels=[\"jan\", \"jun\", \"sep\"],\n",
    "    figure=fig,\n",
    ")\n",
    "\n",
    "# once created the figure can be modified as needed using pure bokeh members\n",
    "fig.title.text = \"Average Monthly Precipitation by Ecoregion\"\n",
    "fig.xaxis.axis_label = \"Ecoregion\"\n",
    "fig.yaxis.axis_label = \"Precipitation (mm)\"\n",
    "\n",
    "show(fig)"
   ]
  },
  {
   "cell_type": "markdown",
   "metadata": {},
   "source": [
    "### Pie chart\n",
    "\n",
    "The pie is a property, each slice is the share from each feature whose value is cast as a percentage of the sum of all values of features composing the pie."
   ]
  },
  {
   "cell_type": "code",
   "execution_count": null,
   "metadata": {},
   "outputs": [],
   "source": [
    "fig = figure(match_aspect=True)\n",
    "\n",
    "# initialize theplot with the ecoregions data\n",
    "ecoregions.bokeh.plot_by_features(\n",
    "    type=\"pie\",\n",
    "    featureId=\"label\",\n",
    "    properties=[\"06_ppt\"],\n",
    "    colors=[\"#f0af07\", \"#0f8755\", \"#76b349\"],\n",
    "    figure=fig,\n",
    ")\n",
    "\n",
    "# once created the figure can be modified as needed using pure bokeh members\n",
    "fig.title.text = \"Share of precipitation in June by Ecoregion\"\n",
    "\n",
    "show(fig)"
   ]
  },
  {
   "cell_type": "markdown",
   "metadata": {},
   "source": [
    "### Donut chart\n",
    "\n",
    "The donut is a property, each slice is the share from each feature whose value is cast as a percentage of the sum of all values of features composing the donut."
   ]
  },
  {
   "cell_type": "code",
   "execution_count": null,
   "metadata": {},
   "outputs": [],
   "source": [
    "fig = figure(match_aspect=True)\n",
    "\n",
    "# initialize theplot with the ecoregions data\n",
    "ecoregions.bokeh.plot_by_features(\n",
    "    type=\"donut\",\n",
    "    featureId=\"label\",\n",
    "    properties=[\"07_ppt\"],\n",
    "    colors=[\"#f0af07\", \"#0f8755\", \"#76b349\"],\n",
    "    figure=fig,\n",
    ")\n",
    "\n",
    "# once created the figure can be modified as needed using pure bokeh members\n",
    "fig.title.text = \"Share of precipitation in July by Ecoregion\"\n",
    "\n",
    "show(fig)"
   ]
  },
  {
   "cell_type": "markdown",
   "metadata": {},
   "source": [
    "## Plot by properties\n",
    "\n",
    "Feature properties are plotted along the x-axis by name; values of the given properties are plotted along the y-axis. Series are features labeled by values of a selected property. The type of produced chart can be controlled by the `type` parameter as shown in the following examples."
   ]
  },
  {
   "cell_type": "code",
   "execution_count": null,
   "metadata": {
    "tags": [
     "remove-input"
    ]
   },
   "outputs": [],
   "source": [
    "import numpy as np\n",
    "from bokeh.plotting import figure, show\n",
    "\n",
    "# Data for the chart\n",
    "features = [\"p1\", \"p2\", \"p3\"]\n",
    "p1_values = [0.5, 2.5, 4.5]\n",
    "p2_values = [1.5, 3.5, 5.5]\n",
    "p3_values = [2.5, 4.0, 6.5]\n",
    "\n",
    "# Set the width of the bars\n",
    "bar_width = 0.25\n",
    "index = np.arange(len(features))\n",
    "offset = 0.02\n",
    "\n",
    "# Create the plot\n",
    "fig = figure(width=800, height=400)\n",
    "\n",
    "# Plotting the bars\n",
    "rects1 = fig.vbar(x=index, top=p1_values, width=bar_width, legend_label=\"f1\", color=\"#1d6b99\")\n",
    "rects2 = fig.vbar(\n",
    "    x=index + (bar_width + offset), top=p2_values, width=bar_width, legend_label=\"f2\", color=\"#cf513e\"\n",
    ")\n",
    "rects3 = fig.vbar(\n",
    "    x=index + 2 * (bar_width + offset),\n",
    "    top=p3_values,\n",
    "    width=bar_width,\n",
    "    legend_label=\"f3\",\n",
    "    color=\"#f0af07\",\n",
    ")\n",
    "\n",
    "# Add labels, title, and custom x-axis tick labels\n",
    "fig.yaxis.axis_label = \"Series property value\"\n",
    "fig.xaxis.axis_label = \"Property names\"\n",
    "fig.outline_line_color = None\n",
    "fig.legend.title = \"Features by property value\"\n",
    "fig.legend.location = \"top_left\"\n",
    "fig.xaxis.ticker = index + (bar_width + offset)\n",
    "fig.xaxis.major_label_overrides = dict(zip(index + (bar_width + offset), features))\n",
    "fig.xgrid.grid_line_color = None\n",
    "fig.legend.orientation = \"horizontal\"\n",
    "\n",
    "# Show the plot\n",
    "show(fig)"
   ]
  },
  {
   "cell_type": "markdown",
   "metadata": {},
   "source": [
    "## Column chart\n",
    "\n",
    "Feature properties are plotted along the x-axis, labeled and sorted by a dictionary input; the values of the given properties are plotted along the y-axis. Series are features, represented by columns, labeled by values of a selected property."
   ]
  },
  {
   "cell_type": "code",
   "execution_count": null,
   "metadata": {},
   "outputs": [],
   "source": [
    "fig = figure(width=800, height=400)\n",
    "\n",
    "\n",
    "# initialize theplot with the ecoregions data\n",
    "ecoregions.bokeh.plot_by_properties(\n",
    "    type=\"bar\",\n",
    "    properties=[\n",
    "        \"01_ppt\",\n",
    "        \"02_ppt\",\n",
    "        \"03_ppt\",\n",
    "        \"04_ppt\",\n",
    "        \"05_ppt\",\n",
    "        \"06_ppt\",\n",
    "        \"07_ppt\",\n",
    "        \"08_ppt\",\n",
    "        \"09_ppt\",\n",
    "        \"10_ppt\",\n",
    "        \"11_ppt\",\n",
    "        \"12_ppt\",\n",
    "    ],\n",
    "    labels=[\"jan\", \"feb\", \"mar\", \"apr\", \"may\", \"jun\", \"jul\", \"aug\", \"sep\", \"oct\", \"nov\", \"dec\"],\n",
    "    featureId=\"label\",\n",
    "    colors=[\"#f0af07\", \"#0f8755\", \"#76b349\"],\n",
    "    figure=fig,\n",
    ")\n",
    "\n",
    "# once created the figure can be modified as needed using pure bokeh members\n",
    "fig.title.text = \"Average Monthly Precipitation by Ecoregion\"\n",
    "fig.xaxis.axis_label = \"Month\"\n",
    "fig.yaxis.axis_label = \"Precipitation (mm)\"\n",
    "\n",
    "show(fig)"
   ]
  },
  {
   "cell_type": "markdown",
   "metadata": {},
   "source": [
    "## Line chart\n",
    "\n",
    "Feature properties are plotted along the x-axis, labeled and sorted by a dictionary input; the values of the given properties are plotted along the y-axis. Series are features, represented by columns, labeled by values of a selected property."
   ]
  },
  {
   "cell_type": "code",
   "execution_count": null,
   "metadata": {},
   "outputs": [],
   "source": [
    "fig = figure(width=800, height=400)\n",
    "\n",
    "# initialize theplot with the ecoregions data\n",
    "ecoregions.bokeh.plot_by_properties(\n",
    "    type=\"plot\",\n",
    "    properties=[\n",
    "        \"01_ppt\",\n",
    "        \"02_ppt\",\n",
    "        \"03_ppt\",\n",
    "        \"04_ppt\",\n",
    "        \"05_ppt\",\n",
    "        \"06_ppt\",\n",
    "        \"07_ppt\",\n",
    "        \"08_ppt\",\n",
    "        \"09_ppt\",\n",
    "        \"10_ppt\",\n",
    "        \"11_ppt\",\n",
    "        \"12_ppt\",\n",
    "    ],\n",
    "    featureId=\"label\",\n",
    "    labels=[\"jan\", \"feb\", \"mar\", \"apr\", \"may\", \"jun\", \"jul\", \"aug\", \"sep\", \"oct\", \"nov\", \"dec\"],\n",
    "    colors=[\"#f0af07\", \"#0f8755\", \"#76b349\"],\n",
    "    figure=fig,\n",
    ")\n",
    "\n",
    "# once created the figure can be modified as needed using pure bokeh members\n",
    "fig.title.text = \"Average Monthly Precipitation by Ecoregion\"\n",
    "fig.xaxis.axis_label = \"Month\"\n",
    "fig.yaxis.axis_label = \"Precipitation (mm)\"\n",
    "\n",
    "show(fig)"
   ]
  },
  {
   "cell_type": "markdown",
   "metadata": {},
   "source": [
    "### Area chart \n",
    "\n",
    "Feature properties are plotted along the x-axis, labeled and sorted by a dictionary input; the values of the given properties are plotted along the y-axis. Series are features, represented by lines and shaded areas, labeled by values of a selected property."
   ]
  },
  {
   "cell_type": "code",
   "execution_count": null,
   "metadata": {},
   "outputs": [],
   "source": [
    "fig = figure(width=800, height=400)\n",
    "\n",
    "# initialize the plot with the ecoregions data\n",
    "ecoregions.bokeh.plot_by_properties(\n",
    "    type=\"fill_between\",\n",
    "    properties=[\n",
    "        \"01_ppt\",\n",
    "        \"02_ppt\",\n",
    "        \"03_ppt\",\n",
    "        \"04_ppt\",\n",
    "        \"05_ppt\",\n",
    "        \"06_ppt\",\n",
    "        \"07_ppt\",\n",
    "        \"08_ppt\",\n",
    "        \"09_ppt\",\n",
    "        \"10_ppt\",\n",
    "        \"11_ppt\",\n",
    "        \"12_ppt\",\n",
    "    ],\n",
    "    labels=[\"jan\", \"feb\", \"mar\", \"apr\", \"may\", \"jun\", \"jul\", \"aug\", \"sep\", \"oct\", \"nov\", \"dec\"],\n",
    "    featureId=\"label\",\n",
    "    colors=[\"#f0af07\", \"#0f8755\", \"#76b349\"],\n",
    "    figure=fig,\n",
    ")\n",
    "\n",
    "# once created the figure can be modified as needed using pure bokeh members\n",
    "fig.title.text = \"Average Monthly Precipitation by Ecoregion\"\n",
    "fig.xaxis.axis_label = \"Month\"\n",
    "fig.yaxis.axis_label = \"Precipitation (mm)\"\n",
    "\n",
    "show(fig)"
   ]
  },
  {
   "cell_type": "markdown",
   "metadata": {},
   "source": [
    "## Plot hist\n",
    "\n",
    "```{api}\n",
    "{docstring}`ee.FeatureCollection.geetools.plot_hist`\n",
    "```\n",
    "\n",
    "The x-axis is defined by value bins for the range of values of a selected property; the y-axis is the number of elements in the given bin."
   ]
  },
  {
   "cell_type": "code",
   "execution_count": null,
   "metadata": {},
   "outputs": [],
   "source": [
    "fig = figure(width=800, height=400)\n",
    "\n",
    "# load some data\n",
    "normClim = ee.ImageCollection(\"OREGONSTATE/PRISM/Norm91m\").toBands()\n",
    "\n",
    "# Make a point sample of climate variables for a region in western USA.\n",
    "region = ee.Geometry.Rectangle(-123.41, 40.43, -116.38, 45.14)\n",
    "climSamp = normClim.sample(region, 5000)\n",
    "\n",
    "\n",
    "# initialize the plot with the ecoregions data\n",
    "climSamp.bokeh.plot_hist(\n",
    "    property=\"07_ppt\", label=\"July Precipitation (mm)\", color=\"#1d6b99\", figure=fig, bins=30\n",
    ")\n",
    "\n",
    "# once created the figure can be modified as needed using pure bokeh members\n",
    "fig.title.text = \"July Precipitation Distribution for NW USA\"\n",
    "\n",
    "show(fig)"
   ]
  },
  {
   "cell_type": "code",
   "execution_count": null,
   "metadata": {},
   "outputs": [],
   "source": []
  }
 ],
 "metadata": {
  "kernelspec": {
   "display_name": "ipygee",
   "language": "python",
   "name": "python3"
  },
  "language_info": {
   "codemirror_mode": {
    "name": "ipython",
    "version": 3
   },
   "file_extension": ".py",
   "mimetype": "text/x-python",
   "name": "python",
   "nbconvert_exporter": "python",
   "pygments_lexer": "ipython3",
   "version": "3.10.16"
  }
 },
 "nbformat": 4,
 "nbformat_minor": 2
}
